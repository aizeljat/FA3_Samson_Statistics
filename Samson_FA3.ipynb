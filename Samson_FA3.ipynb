{
 "cells": [
  {
   "cell_type": "code",
   "execution_count": 3,
   "id": "ae16b67d",
   "metadata": {},
   "outputs": [
    {
     "name": "stdout",
     "output_type": "stream",
     "text": [
      "     Descriptive Statistic       Score\n",
      "0                    Valid   60.000000\n",
      "1                     Mode   28.000000\n",
      "2                   Median   57.000000\n",
      "3                     Mean   59.166667\n",
      "4           Std. Deviation   22.025112\n",
      "5                 Variance  485.105556\n",
      "6                 Skewness    0.162966\n",
      "7   Std. Error of Skewness    0.021039\n",
      "8                 Kurtosis   -1.241208\n",
      "9   Std. Error of Kurtosis   -0.160239\n",
      "10                 Minimum   25.000000\n",
      "11                 Maximum   99.000000\n",
      "12         25th Percentile   37.750000\n",
      "13         50th Percentile   57.000000\n",
      "14         75th Percentile   76.000000\n",
      "15         90th Percentile   89.200000\n",
      "16         95th Percentile   94.100000\n"
     ]
    },
    {
     "name": "stderr",
     "output_type": "stream",
     "text": [
      "C:\\Users\\User\\AppData\\Local\\Temp\\ipykernel_23216\\2663305944.py:15: FutureWarning: Unlike other reduction functions (e.g. `skew`, `kurtosis`), the default behavior of `mode` typically preserves the axis it acts along. In SciPy 1.11.0, this behavior will change: the default value of `keepdims` will become False, the `axis` over which the statistic is taken will be eliminated, and the value None will no longer be accepted. Set `keepdims` to True or False to avoid this warning.\n",
      "  mode_result = stats.mode(data)\n"
     ]
    }
   ],
   "source": [
    "import numpy as np\n",
    "import pandas as pd\n",
    "from scipy import stats\n",
    "\n",
    "# Sample data\n",
    "data = [\n",
    "    88, 45, 53, 86, 33, 86, 85, 30, 89, 53, 41, 96, 56, 38, 62,\n",
    "    71, 51, 86, 68, 29, 28, 47, 33, 37, 25, 36, 33, 94, 73, 46,\n",
    "    42, 34, 79, 72, 88, 99, 82, 62, 57, 42, 28, 55, 67, 62, 60,\n",
    "    96, 61, 57, 75, 93, 34, 75, 53, 32, 28, 73, 51, 69, 91, 35,\n",
    "]\n",
    "\n",
    "valid_count = len(data)\n",
    "\n",
    "mode_result = stats.mode(data)\n",
    "mode = mode_result.mode[0]\n",
    "mode_count = mode_result.count[0]\n",
    "\n",
    "median = np.median(data)\n",
    "mean = np.mean(data)\n",
    "std_dev = np.std(data)\n",
    "variance = np.var(data)\n",
    "skewness = stats.skew(data)\n",
    "std_error_skewness = skewness / np.sqrt(valid_count)\n",
    "kurtosis = stats.kurtosis(data)\n",
    "std_error_kurtosis = kurtosis / np.sqrt(valid_count)\n",
    "minimum = np.min(data)\n",
    "maximum = np.max(data)\n",
    "\n",
    "# Quartiles\n",
    "q1 = np.percentile(data, 25)\n",
    "q2 = np.percentile(data, 50)\n",
    "q3 = np.percentile(data, 75)\n",
    "d9 = np.percentile(data, 90)\n",
    "p95 = np.percentile(data, 95)\n",
    "\n",
    "\n",
    "df = pd.DataFrame({\n",
    "    ' Descriptive Statistic': ['Valid', 'Mode', 'Median', 'Mean', 'Std. Deviation', 'Variance', 'Skewness', 'Std. Error of Skewness', 'Kurtosis', 'Std. Error of Kurtosis', 'Minimum', 'Maximum', '25th Percentile', '50th Percentile', '75th Percentile', '90th Percentile', '95th Percentile'],\n",
    "    'Score': [valid_count, mode, median, mean, std_dev, variance, skewness, std_error_skewness, kurtosis, std_error_kurtosis, minimum, maximum, q1, q2, q3, d9, p95]\n",
    "})\n",
    "print(df)\n"
   ]
  },
  {
   "cell_type": "code",
   "execution_count": null,
   "id": "cdf8c171",
   "metadata": {},
   "outputs": [],
   "source": []
  },
  {
   "cell_type": "code",
   "execution_count": null,
   "id": "0bd7a2c1",
   "metadata": {},
   "outputs": [],
   "source": []
  },
  {
   "cell_type": "code",
   "execution_count": null,
   "id": "3acf6995",
   "metadata": {},
   "outputs": [],
   "source": []
  },
  {
   "cell_type": "code",
   "execution_count": null,
   "id": "a9e584dc",
   "metadata": {},
   "outputs": [],
   "source": []
  }
 ],
 "metadata": {
  "kernelspec": {
   "display_name": "Python 3 (ipykernel)",
   "language": "python",
   "name": "python3"
  },
  "language_info": {
   "codemirror_mode": {
    "name": "ipython",
    "version": 3
   },
   "file_extension": ".py",
   "mimetype": "text/x-python",
   "name": "python",
   "nbconvert_exporter": "python",
   "pygments_lexer": "ipython3",
   "version": "3.11.4"
  }
 },
 "nbformat": 4,
 "nbformat_minor": 5
}
